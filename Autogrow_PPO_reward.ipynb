{
  "nbformat": 4,
  "nbformat_minor": 0,
  "metadata": {
    "colab": {
      "provenance": [],
      "gpuType": "T4"
    },
    "kernelspec": {
      "name": "python3",
      "display_name": "Python 3"
    },
    "language_info": {
      "name": "python"
    },
    "accelerator": "GPU"
  },
  "cells": [
    {
      "cell_type": "code",
      "source": [
        "pip install stable-baselines3\n"
      ],
      "metadata": {
        "colab": {
          "base_uri": "https://localhost:8080/"
        },
        "id": "mMR6Gzb2cjrC",
        "outputId": "35373c77-085f-43c8-cb9d-b38bd27155ac"
      },
      "execution_count": null,
      "outputs": [
        {
          "output_type": "stream",
          "name": "stdout",
          "text": [
            "Requirement already satisfied: stable-baselines3 in /usr/local/lib/python3.10/dist-packages (2.3.2)\n",
            "Collecting gymnasium<0.30,>=0.28.1 (from stable-baselines3)\n",
            "  Using cached gymnasium-0.29.1-py3-none-any.whl (953 kB)\n",
            "Requirement already satisfied: numpy>=1.20 in /usr/local/lib/python3.10/dist-packages (from stable-baselines3) (1.25.2)\n",
            "Requirement already satisfied: torch>=1.13 in /usr/local/lib/python3.10/dist-packages (from stable-baselines3) (2.3.0+cu121)\n",
            "Requirement already satisfied: cloudpickle in /usr/local/lib/python3.10/dist-packages (from stable-baselines3) (2.2.1)\n",
            "Requirement already satisfied: pandas in /usr/local/lib/python3.10/dist-packages (from stable-baselines3) (2.0.3)\n",
            "Requirement already satisfied: matplotlib in /usr/local/lib/python3.10/dist-packages (from stable-baselines3) (3.7.1)\n",
            "Requirement already satisfied: typing-extensions>=4.3.0 in /usr/local/lib/python3.10/dist-packages (from gymnasium<0.30,>=0.28.1->stable-baselines3) (4.12.2)\n",
            "Requirement already satisfied: farama-notifications>=0.0.1 in /usr/local/lib/python3.10/dist-packages (from gymnasium<0.30,>=0.28.1->stable-baselines3) (0.0.4)\n",
            "Requirement already satisfied: filelock in /usr/local/lib/python3.10/dist-packages (from torch>=1.13->stable-baselines3) (3.15.1)\n",
            "Requirement already satisfied: sympy in /usr/local/lib/python3.10/dist-packages (from torch>=1.13->stable-baselines3) (1.12.1)\n",
            "Requirement already satisfied: networkx in /usr/local/lib/python3.10/dist-packages (from torch>=1.13->stable-baselines3) (3.3)\n",
            "Requirement already satisfied: jinja2 in /usr/local/lib/python3.10/dist-packages (from torch>=1.13->stable-baselines3) (3.1.4)\n",
            "Requirement already satisfied: fsspec in /usr/local/lib/python3.10/dist-packages (from torch>=1.13->stable-baselines3) (2023.6.0)\n",
            "Requirement already satisfied: nvidia-cuda-nvrtc-cu12==12.1.105 in /usr/local/lib/python3.10/dist-packages (from torch>=1.13->stable-baselines3) (12.1.105)\n",
            "Requirement already satisfied: nvidia-cuda-runtime-cu12==12.1.105 in /usr/local/lib/python3.10/dist-packages (from torch>=1.13->stable-baselines3) (12.1.105)\n",
            "Requirement already satisfied: nvidia-cuda-cupti-cu12==12.1.105 in /usr/local/lib/python3.10/dist-packages (from torch>=1.13->stable-baselines3) (12.1.105)\n",
            "Requirement already satisfied: nvidia-cudnn-cu12==8.9.2.26 in /usr/local/lib/python3.10/dist-packages (from torch>=1.13->stable-baselines3) (8.9.2.26)\n",
            "Requirement already satisfied: nvidia-cublas-cu12==12.1.3.1 in /usr/local/lib/python3.10/dist-packages (from torch>=1.13->stable-baselines3) (12.1.3.1)\n",
            "Requirement already satisfied: nvidia-cufft-cu12==11.0.2.54 in /usr/local/lib/python3.10/dist-packages (from torch>=1.13->stable-baselines3) (11.0.2.54)\n",
            "Requirement already satisfied: nvidia-curand-cu12==10.3.2.106 in /usr/local/lib/python3.10/dist-packages (from torch>=1.13->stable-baselines3) (10.3.2.106)\n",
            "Requirement already satisfied: nvidia-cusolver-cu12==11.4.5.107 in /usr/local/lib/python3.10/dist-packages (from torch>=1.13->stable-baselines3) (11.4.5.107)\n",
            "Requirement already satisfied: nvidia-cusparse-cu12==12.1.0.106 in /usr/local/lib/python3.10/dist-packages (from torch>=1.13->stable-baselines3) (12.1.0.106)\n",
            "Requirement already satisfied: nvidia-nccl-cu12==2.20.5 in /usr/local/lib/python3.10/dist-packages (from torch>=1.13->stable-baselines3) (2.20.5)\n",
            "Requirement already satisfied: nvidia-nvtx-cu12==12.1.105 in /usr/local/lib/python3.10/dist-packages (from torch>=1.13->stable-baselines3) (12.1.105)\n",
            "Requirement already satisfied: triton==2.3.0 in /usr/local/lib/python3.10/dist-packages (from torch>=1.13->stable-baselines3) (2.3.0)\n",
            "Requirement already satisfied: nvidia-nvjitlink-cu12 in /usr/local/lib/python3.10/dist-packages (from nvidia-cusolver-cu12==11.4.5.107->torch>=1.13->stable-baselines3) (12.5.40)\n",
            "Requirement already satisfied: contourpy>=1.0.1 in /usr/local/lib/python3.10/dist-packages (from matplotlib->stable-baselines3) (1.2.1)\n",
            "Requirement already satisfied: cycler>=0.10 in /usr/local/lib/python3.10/dist-packages (from matplotlib->stable-baselines3) (0.12.1)\n",
            "Requirement already satisfied: fonttools>=4.22.0 in /usr/local/lib/python3.10/dist-packages (from matplotlib->stable-baselines3) (4.53.0)\n",
            "Requirement already satisfied: kiwisolver>=1.0.1 in /usr/local/lib/python3.10/dist-packages (from matplotlib->stable-baselines3) (1.4.5)\n",
            "Requirement already satisfied: packaging>=20.0 in /usr/local/lib/python3.10/dist-packages (from matplotlib->stable-baselines3) (24.1)\n",
            "Requirement already satisfied: pillow>=6.2.0 in /usr/local/lib/python3.10/dist-packages (from matplotlib->stable-baselines3) (9.4.0)\n",
            "Requirement already satisfied: pyparsing>=2.3.1 in /usr/local/lib/python3.10/dist-packages (from matplotlib->stable-baselines3) (3.1.2)\n",
            "Requirement already satisfied: python-dateutil>=2.7 in /usr/local/lib/python3.10/dist-packages (from matplotlib->stable-baselines3) (2.8.2)\n",
            "Requirement already satisfied: pytz>=2020.1 in /usr/local/lib/python3.10/dist-packages (from pandas->stable-baselines3) (2023.4)\n",
            "Requirement already satisfied: tzdata>=2022.1 in /usr/local/lib/python3.10/dist-packages (from pandas->stable-baselines3) (2024.1)\n",
            "Requirement already satisfied: six>=1.5 in /usr/local/lib/python3.10/dist-packages (from python-dateutil>=2.7->matplotlib->stable-baselines3) (1.16.0)\n",
            "Requirement already satisfied: MarkupSafe>=2.0 in /usr/local/lib/python3.10/dist-packages (from jinja2->torch>=1.13->stable-baselines3) (2.1.5)\n",
            "Requirement already satisfied: mpmath<1.4.0,>=1.1.0 in /usr/local/lib/python3.10/dist-packages (from sympy->torch>=1.13->stable-baselines3) (1.3.0)\n",
            "Installing collected packages: gymnasium\n",
            "  Attempting uninstall: gymnasium\n",
            "    Found existing installation: gymnasium 1.0.0a2\n",
            "    Uninstalling gymnasium-1.0.0a2:\n",
            "      Successfully uninstalled gymnasium-1.0.0a2\n",
            "\u001b[31mERROR: pip's dependency resolver does not currently take into account all the packages that are installed. This behaviour is the source of the following dependency conflicts.\n",
            "shimmy 2.0.0 requires gymnasium>=1.0.0a1, but you have gymnasium 0.29.1 which is incompatible.\u001b[0m\u001b[31m\n",
            "\u001b[0mSuccessfully installed gymnasium-0.29.1\n"
          ]
        }
      ]
    },
    {
      "cell_type": "code",
      "source": [
        "!pip install 'shimmy>=0.2.1'"
      ],
      "metadata": {
        "colab": {
          "base_uri": "https://localhost:8080/",
          "height": 429
        },
        "id": "GXROQNiNdMg8",
        "outputId": "b090de43-259d-4dcd-bb40-a6dcf07f4911"
      },
      "execution_count": null,
      "outputs": [
        {
          "output_type": "stream",
          "name": "stdout",
          "text": [
            "Collecting shimmy>=0.2.1\n",
            "  Downloading Shimmy-2.0.0-py3-none-any.whl (30 kB)\n",
            "Requirement already satisfied: numpy>=1.18.0 in /usr/local/lib/python3.10/dist-packages (from shimmy>=0.2.1) (1.25.2)\n",
            "Collecting gymnasium>=1.0.0a1 (from shimmy>=0.2.1)\n",
            "  Downloading gymnasium-1.0.0a2-py3-none-any.whl (954 kB)\n",
            "\u001b[2K     \u001b[90m━━━━━━━━━━━━━━━━━━━━━━━━━━━━━━━━━━━━━━━━\u001b[0m \u001b[32m954.3/954.3 kB\u001b[0m \u001b[31m11.6 MB/s\u001b[0m eta \u001b[36m0:00:00\u001b[0m\n",
            "\u001b[?25hRequirement already satisfied: cloudpickle>=1.2.0 in /usr/local/lib/python3.10/dist-packages (from gymnasium>=1.0.0a1->shimmy>=0.2.1) (2.2.1)\n",
            "Requirement already satisfied: typing-extensions>=4.3.0 in /usr/local/lib/python3.10/dist-packages (from gymnasium>=1.0.0a1->shimmy>=0.2.1) (4.12.2)\n",
            "Requirement already satisfied: farama-notifications>=0.0.1 in /usr/local/lib/python3.10/dist-packages (from gymnasium>=1.0.0a1->shimmy>=0.2.1) (0.0.4)\n",
            "Installing collected packages: gymnasium, shimmy\n",
            "  Attempting uninstall: gymnasium\n",
            "    Found existing installation: gymnasium 0.29.1\n",
            "    Uninstalling gymnasium-0.29.1:\n",
            "      Successfully uninstalled gymnasium-0.29.1\n",
            "\u001b[31mERROR: pip's dependency resolver does not currently take into account all the packages that are installed. This behaviour is the source of the following dependency conflicts.\n",
            "stable-baselines3 2.3.2 requires gymnasium<0.30,>=0.28.1, but you have gymnasium 1.0.0a2 which is incompatible.\u001b[0m\u001b[31m\n",
            "\u001b[0mSuccessfully installed gymnasium-1.0.0a2 shimmy-2.0.0\n"
          ]
        },
        {
          "output_type": "display_data",
          "data": {
            "application/vnd.colab-display-data+json": {
              "pip_warning": {
                "packages": [
                  "gymnasium"
                ]
              },
              "id": "7b5085edda324ea6ad976f552e1bcd19"
            }
          },
          "metadata": {}
        }
      ]
    },
    {
      "cell_type": "code",
      "source": [
        "import gym\n",
        "from gym import spaces\n",
        "import numpy as np\n",
        "import random\n",
        "import matplotlib.pyplot as plt\n",
        "from stable_baselines3 import PPO\n",
        "from stable_baselines3.common.env_util import make_vec_env\n",
        "\n",
        "class GreenhouseEnv(gym.Env):\n",
        "    def __init__(self, a_tank_capacity=1, b_tank_capacity=1, acid_tank_capacity=1, main_tank_capacity=10):\n",
        "        super(GreenhouseEnv, self).__init__()\n",
        "\n",
        "        self.a_tank_capacity = a_tank_capacity\n",
        "        self.b_tank_capacity = b_tank_capacity\n",
        "        self.acid_tank_capacity = acid_tank_capacity\n",
        "        self.main_tank_capacity = main_tank_capacity\n",
        "\n",
        "        # Define the observation space: [A level, B level, Acid level in container, pH]\n",
        "        self.observation_space = spaces.Box(low=np.array([0, 0, 0, 5.5]),\n",
        "                                            high=np.array([a_tank_capacity, b_tank_capacity, acid_tank_capacity, 7.5]),\n",
        "                                            dtype=np.float32)\n",
        "\n",
        "        # Define the action space: [Desired A mix, Desired B mix, Desired pH]\n",
        "        self.action_space = spaces.Box(low=np.array([0, 0, 5.5]),\n",
        "                                       high=np.array([a_tank_capacity, b_tank_capacity, 7.5]),\n",
        "                                       dtype=np.float32)\n",
        "\n",
        "        self.reset()\n",
        "\n",
        "    def reset(self):\n",
        "        self.a_level = random.uniform(0, self.a_tank_capacity)\n",
        "        self.b_level = random.uniform(0, self.b_tank_capacity)\n",
        "        self.acid_level = random.uniform(0, self.acid_tank_capacity)\n",
        "        self.pH = random.uniform(5.5, 7.5)\n",
        "        self.state = (self.a_level, self.b_level, self.acid_level, self.pH)\n",
        "        return self.state\n",
        "\n",
        "    def step(self, action):\n",
        "        desired_a_mix, desired_b_mix, desired_pH = action\n",
        "\n",
        "        supply_a = min(0, desired_a_mix - self.a_level)\n",
        "        supply_b = min(0, desired_b_mix - self.b_level)\n",
        "\n",
        "        acid_needed = self.calculate_acid_amount(self.pH, desired_pH)\n",
        "        supply_acid = min(acid_needed, self.acid_level)\n",
        "\n",
        "        self.a_level += supply_a\n",
        "        self.b_level += supply_b\n",
        "        self.acid_level -= supply_acid\n",
        "        self.pH = desired_pH\n",
        "\n",
        "        next_state = (self.a_level, self.b_level, self.acid_level, self.pH)\n",
        "\n",
        "        # Define the reward function\n",
        "        reward = -abs(self.pH - 6.5)  # For Lettuce, desirable range pH is 6.0-7.0\n",
        "        if self.a_level < desired_a_mix or self.b_level < desired_b_mix or self.acid_level < acid_needed:\n",
        "            reward -= 10  # Penalty for not meeting the supply\n",
        "\n",
        "        done = self.a_level >= desired_a_mix and self.b_level >= desired_b_mix and self.pH <= desired_pH\n",
        "\n",
        "        self.state = next_state\n",
        "        return next_state, reward, done, {}\n",
        "\n",
        "    def calculate_acid_amount(self, current_pH, target_pH):\n",
        "        if current_pH <= target_pH:\n",
        "            return 0\n",
        "        acid_conc = 10**(-4)  # To be Updated\n",
        "        initial_conc = 10**(-current_pH)\n",
        "        desired_conc = 10**(-target_pH)\n",
        "\n",
        "        acid_needed = abs(initial_conc - desired_conc) * self.main_tank_capacity / acid_conc\n",
        "        return acid_needed\n",
        "\n",
        "    def render(self, mode='human'):\n",
        "        print(f\"A level: {self.a_level}, B level: {self.b_level}, Acid level: {self.acid_level}, pH: {self.pH}\")\n",
        "\n",
        "def evaluate_agent(model, env, num_episodes=10):\n",
        "    total_rewards = []\n",
        "    for _ in range(num_episodes):\n",
        "        state = env.reset()\n",
        "        done = False\n",
        "        episode_reward = 0\n",
        "        while not done:\n",
        "            action, _ = model.predict(state)\n",
        "            state, reward, done, _ = env.step(action)\n",
        "            episode_reward += reward\n",
        "        total_rewards.append(episode_reward)\n",
        "    avg_reward = np.mean(total_rewards)\n",
        "    return avg_reward\n",
        "\n",
        "# Create the environment\n",
        "env = make_vec_env(lambda: GreenhouseEnv(1, 1, 0.5), n_envs=1)\n",
        "\n",
        "# Create the RL model\n",
        "model = PPO(\"MlpPolicy\", env, verbose=1)\n",
        "\n",
        "# Training with periodic evaluation\n",
        "total_timesteps = 10000\n",
        "eval_interval = 1000\n",
        "num_evals = total_timesteps // eval_interval\n",
        "avg_rewards = []\n",
        "\n",
        "for i in range(num_evals):\n",
        "    model.learn(total_timesteps=eval_interval)\n",
        "    avg_reward = evaluate_agent(model, env)\n",
        "    avg_rewards.append(avg_reward)\n",
        "    print(f\"Evaluation after {eval_interval * (i+1)} timesteps: Avg Reward = {avg_reward}\")\n",
        "\n",
        "# Plotting the results\n",
        "plt.plot(range(eval_interval, total_timesteps + eval_interval, eval_interval), avg_rewards)\n",
        "plt.xlabel('Timesteps')\n",
        "plt.ylabel('Average Reward')\n",
        "plt.title('Average Reward vs. Timesteps')\n",
        "plt.show()\n"
      ],
      "metadata": {
        "colab": {
          "base_uri": "https://localhost:8080/",
          "height": 1000
        },
        "id": "gCi0USeocYIS",
        "outputId": "7fc5edc7-c744-4d4e-9a49-4a2f0e9aa1e8"
      },
      "execution_count": null,
      "outputs": [
        {
          "output_type": "stream",
          "name": "stderr",
          "text": [
            "/usr/local/lib/python3.10/dist-packages/gym/spaces/box.py:128: UserWarning: \u001b[33mWARN: Box bound precision lowered by casting to float32\u001b[0m\n",
            "  logger.warn(f\"Box bound precision lowered by casting to {self.dtype}\")\n",
            "/usr/local/lib/python3.10/dist-packages/stable_baselines3/common/vec_env/patch_gym.py:49: UserWarning: You provided an OpenAI Gym environment. We strongly recommend transitioning to Gymnasium environments. Stable-Baselines3 is automatically wrapping your environments in a compatibility layer, which could potentially cause issues.\n",
            "  warnings.warn(\n"
          ]
        },
        {
          "output_type": "stream",
          "name": "stdout",
          "text": [
            "Using cuda device\n"
          ]
        },
        {
          "output_type": "stream",
          "name": "stderr",
          "text": [
            "/usr/local/lib/python3.10/dist-packages/gym/core.py:256: DeprecationWarning: \u001b[33mWARN: Function `env.seed(seed)` is marked as deprecated and will be removed in the future. Please use `env.reset(seed=seed)` instead.\u001b[0m\n",
            "  deprecation(\n"
          ]
        },
        {
          "output_type": "stream",
          "name": "stdout",
          "text": [
            "---------------------------------\n",
            "| rollout/           |          |\n",
            "|    ep_len_mean     | 2.83     |\n",
            "|    ep_rew_mean     | -25.4    |\n",
            "| time/              |          |\n",
            "|    fps             | 736      |\n",
            "|    iterations      | 1        |\n",
            "|    time_elapsed    | 2        |\n",
            "|    total_timesteps | 2048     |\n",
            "---------------------------------\n",
            "Evaluation after 1000 timesteps: Avg Reward = -19.299999237060547\n",
            "---------------------------------\n",
            "| rollout/           |          |\n",
            "|    ep_len_mean     | 2.21     |\n",
            "|    ep_rew_mean     | -19.6    |\n",
            "| time/              |          |\n",
            "|    fps             | 835      |\n",
            "|    iterations      | 1        |\n",
            "|    time_elapsed    | 2        |\n",
            "|    total_timesteps | 2048     |\n",
            "---------------------------------\n",
            "Evaluation after 2000 timesteps: Avg Reward = -11.100000381469727\n",
            "---------------------------------\n",
            "| rollout/           |          |\n",
            "|    ep_len_mean     | 1.73     |\n",
            "|    ep_rew_mean     | -14.4    |\n",
            "| time/              |          |\n",
            "|    fps             | 692      |\n",
            "|    iterations      | 1        |\n",
            "|    time_elapsed    | 2        |\n",
            "|    total_timesteps | 2048     |\n",
            "---------------------------------\n",
            "Evaluation after 3000 timesteps: Avg Reward = -9.300000190734863\n",
            "---------------------------------\n",
            "| rollout/           |          |\n",
            "|    ep_len_mean     | 1.32     |\n",
            "|    ep_rew_mean     | -11.3    |\n",
            "| time/              |          |\n",
            "|    fps             | 868      |\n",
            "|    iterations      | 1        |\n",
            "|    time_elapsed    | 2        |\n",
            "|    total_timesteps | 2048     |\n",
            "---------------------------------\n",
            "Evaluation after 4000 timesteps: Avg Reward = -11.199999809265137\n",
            "---------------------------------\n",
            "| rollout/           |          |\n",
            "|    ep_len_mean     | 1.14     |\n",
            "|    ep_rew_mean     | -10.1    |\n",
            "| time/              |          |\n",
            "|    fps             | 859      |\n",
            "|    iterations      | 1        |\n",
            "|    time_elapsed    | 2        |\n",
            "|    total_timesteps | 2048     |\n",
            "---------------------------------\n",
            "Evaluation after 5000 timesteps: Avg Reward = -9.199999809265137\n",
            "---------------------------------\n",
            "| rollout/           |          |\n",
            "|    ep_len_mean     | 1.17     |\n",
            "|    ep_rew_mean     | -10.3    |\n",
            "| time/              |          |\n",
            "|    fps             | 658      |\n",
            "|    iterations      | 1        |\n",
            "|    time_elapsed    | 3        |\n",
            "|    total_timesteps | 2048     |\n",
            "---------------------------------\n",
            "Evaluation after 6000 timesteps: Avg Reward = -12.199999809265137\n",
            "---------------------------------\n",
            "| rollout/           |          |\n",
            "|    ep_len_mean     | 1.08     |\n",
            "|    ep_rew_mean     | -9.78    |\n",
            "| time/              |          |\n",
            "|    fps             | 851      |\n",
            "|    iterations      | 1        |\n",
            "|    time_elapsed    | 2        |\n",
            "|    total_timesteps | 2048     |\n",
            "---------------------------------\n",
            "Evaluation after 7000 timesteps: Avg Reward = -11.0\n",
            "---------------------------------\n",
            "| rollout/           |          |\n",
            "|    ep_len_mean     | 1.15     |\n",
            "|    ep_rew_mean     | -10.2    |\n",
            "| time/              |          |\n",
            "|    fps             | 858      |\n",
            "|    iterations      | 1        |\n",
            "|    time_elapsed    | 2        |\n",
            "|    total_timesteps | 2048     |\n",
            "---------------------------------\n",
            "Evaluation after 8000 timesteps: Avg Reward = -10.199999809265137\n",
            "---------------------------------\n",
            "| rollout/           |          |\n",
            "|    ep_len_mean     | 1.04     |\n",
            "|    ep_rew_mean     | -9.84    |\n",
            "| time/              |          |\n",
            "|    fps             | 682      |\n",
            "|    iterations      | 1        |\n",
            "|    time_elapsed    | 3        |\n",
            "|    total_timesteps | 2048     |\n",
            "---------------------------------\n",
            "Evaluation after 9000 timesteps: Avg Reward = -10.0\n",
            "---------------------------------\n",
            "| rollout/           |          |\n",
            "|    ep_len_mean     | 1.06     |\n",
            "|    ep_rew_mean     | -9.86    |\n",
            "| time/              |          |\n",
            "|    fps             | 848      |\n",
            "|    iterations      | 1        |\n",
            "|    time_elapsed    | 2        |\n",
            "|    total_timesteps | 2048     |\n",
            "---------------------------------\n",
            "Evaluation after 10000 timesteps: Avg Reward = -11.0\n"
          ]
        },
        {
          "output_type": "display_data",
          "data": {
            "text/plain": [
              "<Figure size 640x480 with 1 Axes>"
            ],
            "image/png": "[encoded data removed]"
          },
          "metadata": {}
        }
      ]
    },
    {
      "cell_type": "code",
      "source": [],
      "metadata": {
        "id": "6qukxkAQcYL1"
      },
      "execution_count": null,
      "outputs": []
    }
  ]
}